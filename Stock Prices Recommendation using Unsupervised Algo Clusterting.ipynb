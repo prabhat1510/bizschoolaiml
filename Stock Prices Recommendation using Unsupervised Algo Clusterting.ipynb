{
 "cells": [
  {
   "cell_type": "code",
   "execution_count": 2,
   "id": "8e504163",
   "metadata": {},
   "outputs": [],
   "source": [
    "import pandas as pd\n",
    "from sklearn.preprocessing import StandardScaler\n",
    "from sklearn.cluster import KMeans\n",
    "import numpy as np\n",
    "\n",
    "# 1. Load price data\n",
    "prices = pd.read_csv('D:\\\\Downloads\\\\prices.csv', parse_dates=['Date'], index_col='Date')\n",
    "\n",
    "# 2. Compute daily returns and drop first NaNs\n",
    "returns = prices.pct_change().dropna()\n",
    "\n",
    "# 3. Feature engineering: mean return & volatility\n",
    "features = pd.DataFrame({\n",
    "    'mean_return': returns.mean(),\n",
    "    'volatility': returns.std()\n",
    "})\n"
   ]
  },
  {
   "cell_type": "code",
   "execution_count": 3,
   "id": "0ba929ed",
   "metadata": {},
   "outputs": [
    {
     "name": "stdout",
     "output_type": "stream",
     "text": [
      "      mean_return  volatility  cluster\n",
      "AAPL     0.002407    0.011772        1\n",
      "MSFT     0.000077    0.014341        0\n",
      "GOOG     0.004951    0.014620        1\n",
      "AMZN     0.004396    0.007048        1\n",
      "FB       0.003408    0.013083        1\n"
     ]
    },
    {
     "name": "stderr",
     "output_type": "stream",
     "text": [
      "C:\\Users\\UD SYSTEMS\\AppData\\Roaming\\Python\\Python311\\site-packages\\sklearn\\cluster\\_kmeans.py:1419: UserWarning: KMeans is known to have a memory leak on Windows with MKL, when there are less chunks than available threads. You can avoid it by setting the environment variable OMP_NUM_THREADS=1.\n",
      "  warnings.warn(\n"
     ]
    }
   ],
   "source": [
    "#Cluster Stocks by Risk/Return Profile\n",
    "# 1. Scale features\n",
    "scaler = StandardScaler()\n",
    "X = scaler.fit_transform(features)\n",
    "\n",
    "# 2. KMeans clustering\n",
    "kmeans = KMeans(n_clusters=2, random_state=42)\n",
    "features['cluster'] = kmeans.fit_predict(X)\n",
    "\n",
    "print(features)\n"
   ]
  },
  {
   "cell_type": "code",
   "execution_count": 5,
   "id": "17a37a06",
   "metadata": {},
   "outputs": [
    {
     "name": "stdout",
     "output_type": "stream",
     "text": [
      "Stocks similar to AAPL: ['MSFT', 'FB', 'GOOG']\n"
     ]
    }
   ],
   "source": [
    "#Pairwise Similarity via Correlation\n",
    "# 1. Compute correlation matrix of returns\n",
    "corr_matrix = returns.corr()\n",
    "\n",
    "# 2. Recommendation function based on correlation\n",
    "def recommend_by_correlation(ticker, corr_mat, top_n=3):\n",
    "    if ticker not in corr_mat:\n",
    "        return []\n",
    "    sims = corr_mat[ticker].drop(index=ticker).sort_values(ascending=False)\n",
    "    return list(sims.head(top_n).index)\n",
    "\n",
    "# Example: top 3 tickers most correlated with AAPL\n",
    "print(\"Stocks similar to AAPL:\", recommend_by_correlation('AAPL', corr_matrix))\n"
   ]
  },
  {
   "cell_type": "code",
   "execution_count": 6,
   "id": "f849b57a",
   "metadata": {},
   "outputs": [
    {
     "name": "stdout",
     "output_type": "stream",
     "text": [
      "Cluster peers for AAPL: ['GOOG', 'AMZN', 'FB']\n",
      "Correlation peers for AAPL: ['MSFT', 'FB', 'GOOG']\n"
     ]
    }
   ],
   "source": [
    "#Putting It All Together\n",
    "def recommend_stocks(ticker, features, corr_mat, top_n=3):\n",
    "    # 1. Cluster-based recommendations\n",
    "    cl = features.loc[ticker, 'cluster']\n",
    "    same_cluster = features[features['cluster']==cl].index.drop(ticker)\n",
    "    \n",
    "    # 2. Correlation-based recommendations\n",
    "    corr_rec = recommend_by_correlation(ticker, corr_mat, top_n)\n",
    "    \n",
    "    return {\n",
    "        'cluster_peers': list(same_cluster),\n",
    "        'correlation_peers': corr_rec\n",
    "    }\n",
    "\n",
    "recs = recommend_stocks('AAPL', features, corr_matrix)\n",
    "print(\"Cluster peers for AAPL:\", recs['cluster_peers'])\n",
    "print(\"Correlation peers for AAPL:\", recs['correlation_peers'])\n"
   ]
  },
  {
   "cell_type": "code",
   "execution_count": null,
   "id": "9baa0a00",
   "metadata": {},
   "outputs": [],
   "source": []
  }
 ],
 "metadata": {
  "kernelspec": {
   "display_name": "Python 3 (ipykernel)",
   "language": "python",
   "name": "python3"
  },
  "language_info": {
   "codemirror_mode": {
    "name": "ipython",
    "version": 3
   },
   "file_extension": ".py",
   "mimetype": "text/x-python",
   "name": "python",
   "nbconvert_exporter": "python",
   "pygments_lexer": "ipython3",
   "version": "3.11.5"
  }
 },
 "nbformat": 4,
 "nbformat_minor": 5
}
