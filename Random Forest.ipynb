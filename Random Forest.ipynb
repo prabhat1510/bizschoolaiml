{
 "cells": [
  {
   "cell_type": "code",
   "execution_count": null,
   "id": "fa5e4cfb",
   "metadata": {},
   "outputs": [],
   "source": [
    "#Random Forest\n",
    "'''\n",
    "Random Forest is a machine learning algorithm that uses many decision trees to make better predictions. \n",
    "Each tree looks at different random parts of the data and their results are combined by voting for \n",
    "classification or averaging for regression. This helps in improving accuracy and reducing errors\n",
    "'''"
   ]
  },
  {
   "cell_type": "code",
   "execution_count": null,
   "id": "66f9183b",
   "metadata": {},
   "outputs": [],
   "source": [
    "#Working of Random Forest Algorithm\n",
    "'''\n",
    "- Create Many Decision Trees: The algorithm makes many decision trees each using a random part of the data. So every tree is a bit different.\n",
    "- Pick Random Features: When building each tree it doesn’t look at all the features (columns) at once. \n",
    "                        It picks a few at random to decide how to split the data. This helps the trees \n",
    "                        stay different from each other.\n",
    "- Each Tree Makes a Prediction: Every tree gives its own answer or prediction based on what it learned \n",
    "                                from its part of the data.\n",
    "-  Combine the Predictions:\n",
    "        -For classification we choose a category as the final answer is the one that most trees agree \n",
    "         on i.e majority voting.\n",
    "        -For regression we predict a number as the final answer is the average of all the trees \n",
    "         predictions.\n",
    "- Why It Works Well: Using random data and features for each tree helps avoid overfitting and makes the overall prediction more accurate and trustworthy.\n",
    "'''"
   ]
  },
  {
   "cell_type": "code",
   "execution_count": null,
   "id": "c123c494",
   "metadata": {},
   "outputs": [],
   "source": [
    "#Key Features of Random Forest\n",
    "'''\n",
    "Handles Missing Data: It can work even if some data is missing so you don’t always need to fill in \n",
    "                      the gaps yourself.\n",
    "Shows Feature Importance: It tells you which features (columns) are most useful for making predictions \n",
    "                          which helps you understand your data better.\n",
    "Works Well with Big and Complex Data: It can handle large datasets with many features without slowing \n",
    "                                      down or losing accuracy.\n",
    "Used for Different Tasks: You can use it for both classification like predicting types or labels and \n",
    "                          regression like predicting numbers or amounts.\n",
    "'''"
   ]
  },
  {
   "cell_type": "code",
   "execution_count": null,
   "id": "3feb3a29",
   "metadata": {},
   "outputs": [],
   "source": [
    "#Assumptions of Random Forest\n",
    "'''\n",
    "Each tree makes its own decisions: Every tree in the forest makes its own predictions without relying on \n",
    "                                   others.\n",
    "Random parts of the data are used: Each tree is built using random samples and features to reduce \n",
    "                                   mistakes.\n",
    "Enough data is needed: Sufficient data ensures the trees are different and learn unique patterns and \n",
    "                       variety.\n",
    "Different predictions improve accuracy: Combining the predictions from different trees leads to a more \n",
    "                                        accurate final result.\n",
    "'''"
   ]
  },
  {
   "cell_type": "code",
   "execution_count": null,
   "id": "b6ed0e07",
   "metadata": {},
   "outputs": [],
   "source": [
    "#Implementing Random Forest for Classification Tasks\n",
    "'''\n",
    "Here we will predict survival rate of a person in titanic.\n",
    "    -Import libraries and load the Titanic dataset.\n",
    "    -Remove rows with missing target values ('Survived').\n",
    "    -Select features like class, sex, age, etc and convert 'Sex' to numbers.\n",
    "    -Fill missing age values with the median.\n",
    "    -Split the data into training and testing sets, then train a Random Forest model.\n",
    "    -Predict on test data, check accuracy and print a sample prediction result.\n",
    "'''\n"
   ]
  },
  {
   "cell_type": "code",
   "execution_count": null,
   "id": "f02dfe78",
   "metadata": {},
   "outputs": [],
   "source": [
    "#Implementing Random Forest for Regression Tasks\n",
    "'''\n",
    "-We will do house price prediction here.\n",
    "-Load the California housing dataset and create a DataFrame with features and target.\n",
    "-Separate the features and the target variable.\n",
    "-Split the data into training and testing sets (80% train, 20% test).\n",
    "-Initialize and train a Random Forest Regressor using the training data.\n",
    "-Predict house values on test data and evaluate using MSE and R² score.\n",
    "-Print a sample prediction and compare it with the actual value.\n",
    "'''"
   ]
  },
  {
   "cell_type": "code",
   "execution_count": 2,
   "id": "3cad987b",
   "metadata": {},
   "outputs": [
    {
     "name": "stdout",
     "output_type": "stream",
     "text": [
      "Predicted Value: 0.51\n",
      "Actual Value: 0.48\n",
      "Mean Squared Error: 0.26\n",
      "R-squared Score: 0.81\n"
     ]
    },
    {
     "name": "stderr",
     "output_type": "stream",
     "text": [
      "C:\\ProgramData\\anaconda3\\Lib\\site-packages\\sklearn\\base.py:464: UserWarning: X does not have valid feature names, but RandomForestRegressor was fitted with feature names\n",
      "  warnings.warn(\n"
     ]
    }
   ],
   "source": [
    "import pandas as pd\n",
    "from sklearn.datasets import fetch_california_housing\n",
    "from sklearn.model_selection import train_test_split\n",
    "from sklearn.ensemble import RandomForestRegressor\n",
    "from sklearn.metrics import mean_squared_error, r2_score\n",
    "\n",
    "california_housing = fetch_california_housing()\n",
    "california_data = pd.DataFrame(california_housing.data, columns=california_housing.feature_names)\n",
    "california_data['MEDV'] = california_housing.target\n",
    "\n",
    "X = california_data.drop('MEDV', axis=1)\n",
    "y = california_data['MEDV']\n",
    "\n",
    "X_train, X_test, y_train, y_test = train_test_split(X, y, test_size=0.2, random_state=42)\n",
    "\n",
    "rf_regressor = RandomForestRegressor(n_estimators=100, random_state=42)\n",
    "\n",
    "rf_regressor.fit(X_train, y_train)\n",
    "\n",
    "y_pred = rf_regressor.predict(X_test)\n",
    "\n",
    "mse = mean_squared_error(y_test, y_pred)\n",
    "r2 = r2_score(y_test, y_pred)\n",
    "\n",
    "single_data = X_test.iloc[0].values.reshape(1, -1)\n",
    "predicted_value = rf_regressor.predict(single_data)\n",
    "print(f\"Predicted Value: {predicted_value[0]:.2f}\")\n",
    "print(f\"Actual Value: {y_test.iloc[0]:.2f}\")\n",
    "\n",
    "print(f\"Mean Squared Error: {mse:.2f}\")\n",
    "print(f\"R-squared Score: {r2:.2f}\")"
   ]
  },
  {
   "cell_type": "code",
   "execution_count": null,
   "id": "5f470176",
   "metadata": {},
   "outputs": [],
   "source": [
    "'''\n",
    "We evaluated the model's performance using Mean Squared Error and R-squared Score which show how accurate the predictions are and used a random sample to check model prediction.\n",
    "\n",
    "Advantages of Random Forest\n",
    "Random Forest provides very accurate predictions even with large datasets.\n",
    "Random Forest can handle missing data well without compromising with accuracy.\n",
    "It doesn’t require normalization or standardization on dataset.\n",
    "When we combine multiple decision trees it reduces the risk of overfitting of the model.\n",
    "Limitations of Random Forest\n",
    "It can be computationally expensive especially with a large number of trees.\n",
    "It’s harder to interpret the model compared to simpler models like decision trees.\n",
    "\n",
    "'''"
   ]
  }
 ],
 "metadata": {
  "kernelspec": {
   "display_name": "Python 3 (ipykernel)",
   "language": "python",
   "name": "python3"
  },
  "language_info": {
   "codemirror_mode": {
    "name": "ipython",
    "version": 3
   },
   "file_extension": ".py",
   "mimetype": "text/x-python",
   "name": "python",
   "nbconvert_exporter": "python",
   "pygments_lexer": "ipython3",
   "version": "3.11.5"
  }
 },
 "nbformat": 4,
 "nbformat_minor": 5
}
