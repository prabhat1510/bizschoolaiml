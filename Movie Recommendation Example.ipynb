{
 "cells": [
  {
   "cell_type": "code",
   "execution_count": 2,
   "id": "97a0e794",
   "metadata": {},
   "outputs": [],
   "source": [
    "'''\n",
    "Build a simple user-based recommender by clustering users with K-Means \n",
    "(an unsupervised algorithm) and then suggesting items popular in a user’s cluster.\n",
    "'''\n",
    "#1. Setup & Data Loading\n",
    "#Install dependencies (if not already):\n",
    "\n",
    "#pip install pandas numpy scikit-learn\n",
    "#Download the MovieLens 100K dataset from https://files.grouplens.org/datasets/movielens/ml-100k.zip\n",
    "\n",
    "#Extract and place u.data and u.item in your working directory.\n",
    "import pandas as pd\n",
    "import numpy as np\n",
    "from sklearn.cluster import KMeans\n",
    "\n",
    "# Load ratings: user_id, item_id, rating, timestamp\n",
    "ratings = pd.read_csv(\n",
    "    'D:\\\\Downloads\\\\recommendationenginedataset\\\\ml-100k\\\\u.data', sep='\\t',\n",
    "    names=['user_id','item_id','rating','timestamp']\n",
    ")\n",
    "\n",
    "# Load movie titles\n",
    "movies = pd.read_csv(\n",
    "    'D:\\\\Downloads\\\\recommendationenginedataset\\\\ml-100k\\\\u.item', sep='|', encoding='latin-1',\n",
    "    names=[\n",
    "      'item_id','title','release_date','video_release_date','IMDb_URL',\n",
    "      'unknown','Action','Adventure','Animation','Children','Comedy','Crime',\n",
    "      'Documentary','Drama','Fantasy','Film-Noir','Horror','Musical',\n",
    "      'Mystery','Romance','Sci-Fi','Thriller','War','Western'\n",
    "    ],\n",
    "    usecols=['item_id','title']\n",
    ")"
   ]
  },
  {
   "cell_type": "code",
   "execution_count": 4,
   "id": "3ce79563",
   "metadata": {},
   "outputs": [],
   "source": [
    "#2. Build & Normalize User–Item Matrix\n",
    "#Create a matrix where rows are users, columns are movies, and cells are ratings (0 if missing).\n",
    "# Pivot to user–item matrix\n",
    "user_item = ratings.pivot_table(\n",
    "    index='user_id', columns='item_id', values='rating'\n",
    ").fillna(0)\n",
    "\n",
    "# Optional: normalize each user vector (e.g., subtract mean) to center ratings\n",
    "user_means = user_item.replace(0, np.NaN).mean(axis=1)\n",
    "user_item_norm = user_item.sub(user_means, axis=0).fillna(0)\n"
   ]
  },
  {
   "cell_type": "code",
   "execution_count": 5,
   "id": "51c12ce7",
   "metadata": {},
   "outputs": [
    {
     "name": "stderr",
     "output_type": "stream",
     "text": [
      "C:\\Users\\UD SYSTEMS\\AppData\\Roaming\\Python\\Python311\\site-packages\\sklearn\\cluster\\_kmeans.py:1419: UserWarning: KMeans is known to have a memory leak on Windows with MKL, when there are less chunks than available threads. You can avoid it by setting the environment variable OMP_NUM_THREADS=4.\n",
      "  warnings.warn(\n"
     ]
    }
   ],
   "source": [
    "#3. Cluster Users with K-Means\n",
    "#Group similar users into k clusters. Here we choose k=10.\n",
    "k = 10\n",
    "kmeans = KMeans(n_clusters=k, random_state=42)\n",
    "# Fit on normalized ratings\n",
    "clusters = kmeans.fit_predict(user_item_norm)\n",
    "\n",
    "# Attach cluster labels to each user\n",
    "user_clusters = pd.DataFrame({\n",
    "    'user_id': user_item_norm.index,\n",
    "    'cluster': clusters\n",
    "}).set_index('user_id')\n"
   ]
  },
  {
   "cell_type": "code",
   "execution_count": 6,
   "id": "dd90c347",
   "metadata": {},
   "outputs": [],
   "source": [
    "'''\n",
    "Generate Recommendations for a User\n",
    "For a given target_user_id:\n",
    "\n",
    "Find their cluster.\n",
    "\n",
    "Compute average ratings for each movie across all users in that cluster.\n",
    "\n",
    "Exclude movies the target user has already rated.\n",
    "\n",
    "Recommend top-N movies by cluster average.\n",
    "\n",
    "'''\n",
    "def recommend_for_user(target_user_id, n_recommendations=5):\n",
    "    # Cluster of the target user\n",
    "    cluster_id = user_clusters.loc[target_user_id, 'cluster']\n",
    "    # All users in same cluster\n",
    "    members = user_clusters[\n",
    "        user_clusters['cluster']==cluster_id\n",
    "    ].index\n",
    "    \n",
    "    # Compute mean rating per movie in cluster\n",
    "    cluster_ratings = user_item.loc[members].mean(axis=0)\n",
    "    \n",
    "    # Movies the user has already rated\n",
    "    watched = ratings[ratings.user_id==target_user_id].item_id.tolist()\n",
    "    \n",
    "    # Filter out watched and sort\n",
    "    recommendations = (\n",
    "        cluster_ratings.drop(labels=watched)\n",
    "                       .sort_values(ascending=False)\n",
    "                       .head(n_recommendations)\n",
    "                       .index\n",
    "    )\n",
    "    # Map item_ids back to titles\n",
    "    return movies.set_index('item_id').loc[recommendations].title.tolist()"
   ]
  },
  {
   "cell_type": "code",
   "execution_count": 7,
   "id": "975f50dc",
   "metadata": {},
   "outputs": [
    {
     "name": "stdout",
     "output_type": "stream",
     "text": [
      "Top 5 recommendations for User 50:\n",
      "- Contact (1997)\n",
      "- Titanic (1997)\n",
      "- Full Monty, The (1997)\n",
      "- Air Force One (1997)\n",
      "- L.A. Confidential (1997)\n"
     ]
    }
   ],
   "source": [
    "# Example: recommend 5 movies for user #50\n",
    "print(\"Top 5 recommendations for User 50:\")\n",
    "for title in recommend_for_user(50):\n",
    "    print(\"-\", title)"
   ]
  },
  {
   "cell_type": "code",
   "execution_count": null,
   "id": "ed52dae1",
   "metadata": {},
   "outputs": [],
   "source": []
  }
 ],
 "metadata": {
  "kernelspec": {
   "display_name": "Python 3 (ipykernel)",
   "language": "python",
   "name": "python3"
  },
  "language_info": {
   "codemirror_mode": {
    "name": "ipython",
    "version": 3
   },
   "file_extension": ".py",
   "mimetype": "text/x-python",
   "name": "python",
   "nbconvert_exporter": "python",
   "pygments_lexer": "ipython3",
   "version": "3.11.5"
  }
 },
 "nbformat": 4,
 "nbformat_minor": 5
}
