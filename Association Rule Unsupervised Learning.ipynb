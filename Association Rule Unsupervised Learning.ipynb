{
 "cells": [
  {
   "cell_type": "code",
   "execution_count": 7,
   "id": "fca4ff37",
   "metadata": {},
   "outputs": [
    {
     "data": {
      "text/plain": [
       "'\\nAssociation Rule Learning:\\nDiscovering relationships and dependencies between variables in large datasets.\\nMarket Basket Analysis: Identifying frequently co-occurring items in transactional data \\n                        (e.g., \"customers who buy bread also tend to buy milk\").\\nRecommendation Systems: Suggesting items or content to users based on their past behavior \\n                        and the preferences of similar users.\\n'"
      ]
     },
     "execution_count": 7,
     "metadata": {},
     "output_type": "execute_result"
    }
   ],
   "source": [
    "'''\n",
    "What Is Association Rule Learning?\n",
    "It identifies patterns like: “If a customer buys bread, they’re likely to buy butter.”\n",
    "\n",
    "Common algorithms: Apriori, FP-Growth\n",
    "\n",
    "Key metrics: Support, Confidence, Lift\n",
    "'''\n",
    "'''\n",
    "Association Rule Learning:\n",
    "Discovering relationships and dependencies between variables in large datasets.\n",
    "Market Basket Analysis: Identifying frequently co-occurring items in transactional data \n",
    "                        (e.g., \"customers who buy bread also tend to buy milk\").\n",
    "Recommendation Systems: Suggesting items or content to users based on their past behavior \n",
    "                        and the preferences of similar users.\n",
    "'''"
   ]
  },
  {
   "cell_type": "code",
   "execution_count": 1,
   "id": "55f978ec",
   "metadata": {},
   "outputs": [
    {
     "name": "stdout",
     "output_type": "stream",
     "text": [
      "Defaulting to user installation because normal site-packages is not writeable\n",
      "Collecting mlxtend\n",
      "  Obtaining dependency information for mlxtend from https://files.pythonhosted.org/packages/4c/43/2fc7f76c8891aef148901f1ba3dee65c1cbac00a85ae5ee0dabc2b861256/mlxtend-0.23.4-py3-none-any.whl.metadata\n",
      "  Downloading mlxtend-0.23.4-py3-none-any.whl.metadata (7.3 kB)\n",
      "Requirement already satisfied: scipy>=1.2.1 in c:\\programdata\\anaconda3\\lib\\site-packages (from mlxtend) (1.11.1)\n",
      "Requirement already satisfied: numpy>=1.16.2 in c:\\programdata\\anaconda3\\lib\\site-packages (from mlxtend) (1.24.3)\n",
      "Requirement already satisfied: pandas>=0.24.2 in c:\\programdata\\anaconda3\\lib\\site-packages (from mlxtend) (2.0.3)\n",
      "Requirement already satisfied: scikit-learn>=1.3.1 in c:\\users\\ud systems\\appdata\\roaming\\python\\python311\\site-packages (from mlxtend) (1.7.1)\n",
      "Requirement already satisfied: matplotlib>=3.0.0 in c:\\programdata\\anaconda3\\lib\\site-packages (from mlxtend) (3.7.2)\n",
      "Requirement already satisfied: joblib>=0.13.2 in c:\\programdata\\anaconda3\\lib\\site-packages (from mlxtend) (1.2.0)\n",
      "Requirement already satisfied: contourpy>=1.0.1 in c:\\programdata\\anaconda3\\lib\\site-packages (from matplotlib>=3.0.0->mlxtend) (1.0.5)\n",
      "Requirement already satisfied: cycler>=0.10 in c:\\programdata\\anaconda3\\lib\\site-packages (from matplotlib>=3.0.0->mlxtend) (0.11.0)\n",
      "Requirement already satisfied: fonttools>=4.22.0 in c:\\programdata\\anaconda3\\lib\\site-packages (from matplotlib>=3.0.0->mlxtend) (4.25.0)\n",
      "Requirement already satisfied: kiwisolver>=1.0.1 in c:\\programdata\\anaconda3\\lib\\site-packages (from matplotlib>=3.0.0->mlxtend) (1.4.4)\n",
      "Requirement already satisfied: packaging>=20.0 in c:\\programdata\\anaconda3\\lib\\site-packages (from matplotlib>=3.0.0->mlxtend) (23.1)\n",
      "Requirement already satisfied: pillow>=6.2.0 in c:\\programdata\\anaconda3\\lib\\site-packages (from matplotlib>=3.0.0->mlxtend) (10.3.0)\n",
      "Requirement already satisfied: pyparsing<3.1,>=2.3.1 in c:\\programdata\\anaconda3\\lib\\site-packages (from matplotlib>=3.0.0->mlxtend) (3.0.9)\n",
      "Requirement already satisfied: python-dateutil>=2.7 in c:\\programdata\\anaconda3\\lib\\site-packages (from matplotlib>=3.0.0->mlxtend) (2.8.2)\n",
      "Requirement already satisfied: pytz>=2020.1 in c:\\programdata\\anaconda3\\lib\\site-packages (from pandas>=0.24.2->mlxtend) (2023.3.post1)\n",
      "Requirement already satisfied: tzdata>=2022.1 in c:\\programdata\\anaconda3\\lib\\site-packages (from pandas>=0.24.2->mlxtend) (2023.3)\n",
      "Requirement already satisfied: threadpoolctl>=3.1.0 in c:\\users\\ud systems\\appdata\\roaming\\python\\python311\\site-packages (from scikit-learn>=1.3.1->mlxtend) (3.6.0)\n",
      "Requirement already satisfied: six>=1.5 in c:\\programdata\\anaconda3\\lib\\site-packages (from python-dateutil>=2.7->matplotlib>=3.0.0->mlxtend) (1.16.0)\n",
      "Downloading mlxtend-0.23.4-py3-none-any.whl (1.4 MB)\n",
      "   ---------------------------------------- 0.0/1.4 MB ? eta -:--:--\n",
      "   ---------------------------------------- 0.0/1.4 MB ? eta -:--:--\n",
      "   - -------------------------------------- 0.0/1.4 MB 991.0 kB/s eta 0:00:02\n",
      "   ------ --------------------------------- 0.2/1.4 MB 2.5 MB/s eta 0:00:01\n",
      "   ----------------- ---------------------- 0.6/1.4 MB 5.4 MB/s eta 0:00:01\n",
      "   ----------------------- ---------------- 0.8/1.4 MB 6.1 MB/s eta 0:00:01\n",
      "   ---------------------------------------  1.4/1.4 MB 7.1 MB/s eta 0:00:01\n",
      "   ---------------------------------------- 1.4/1.4 MB 7.1 MB/s eta 0:00:00\n",
      "Installing collected packages: mlxtend\n",
      "Successfully installed mlxtend-0.23.4\n"
     ]
    }
   ],
   "source": [
    "# Step 1: Install required libraries\n",
    "!pip install mlxtend"
   ]
  },
  {
   "cell_type": "code",
   "execution_count": 23,
   "id": "fdd54cd0",
   "metadata": {},
   "outputs": [],
   "source": [
    "# Step 2: Import libraries\n",
    "import pandas as pd\n",
    "from mlxtend.frequent_patterns import apriori, association_rules"
   ]
  },
  {
   "cell_type": "code",
   "execution_count": 31,
   "id": "fa903dd2",
   "metadata": {},
   "outputs": [
    {
     "name": "stdout",
     "output_type": "stream",
     "text": [
      "   Member_number        Date   itemDescription\n",
      "0           1808  21-07-2015    tropical fruit\n",
      "1           2552  05-01-2015        whole milk\n",
      "2           2300  19-09-2015         pip fruit\n",
      "3           1187  12-12-2015  other vegetables\n",
      "4           3037  01-02-2015        whole milk\n"
     ]
    }
   ],
   "source": [
    "# Step 3: Load and preprocess data\n",
    "#Dataset URL -- https://www.kaggle.com/datasets/heeraldedhia/groceries-dataset/data\n",
    "#https://www.kaggle.com/code/mohbabaqi/apriori-algorithm-a-simple-intuitive-guide --- Working code\n",
    "df = pd.read_csv('D:\\\\Downloads\\\\Groceries_dataset\\\\Groceries_dataset.csv')\n",
    "print(df.head())"
   ]
  },
  {
   "cell_type": "code",
   "execution_count": 32,
   "id": "fb96eb2d",
   "metadata": {},
   "outputs": [
    {
     "name": "stdout",
     "output_type": "stream",
     "text": [
      "Total transactions: 14963\n",
      "Sample transaction: ['sausage', 'whole milk', 'semi-finished bread', 'yogurt']\n"
     ]
    },
    {
     "data": {
      "text/plain": [
       "'\\nWe create one list of items for each unique customer-date pair.\\n\\ntransactions is now a list of lists, ready for encoding.\\n'"
      ]
     },
     "execution_count": 32,
     "metadata": {},
     "output_type": "execute_result"
    }
   ],
   "source": [
    "# Aggregate items into lists per transaction\n",
    "basket = (df\n",
    "          .groupby(['Member_number','Date'])['itemDescription']\n",
    "          .apply(list)\n",
    "          .reset_index(name='Items'))\n",
    "\n",
    "transactions = basket['Items'].tolist()\n",
    "print(\"Total transactions:\", len(transactions))\n",
    "print(\"Sample transaction:\", transactions[0])\n",
    "\n",
    "'''\n",
    "We create one list of items for each unique customer-date pair.\n",
    "\n",
    "transactions is now a list of lists, ready for encoding.\n",
    "'''"
   ]
  },
  {
   "cell_type": "code",
   "execution_count": 34,
   "id": "4306b8fa",
   "metadata": {},
   "outputs": [
    {
     "name": "stdout",
     "output_type": "stream",
     "text": [
      "(14963, 167)\n",
      "Instant food products    False\n",
      "UHT-milk                 False\n",
      "abrasive cleaner         False\n",
      "artif. sweetener         False\n",
      "baby cosmetics           False\n",
      "Name: 0, dtype: bool\n"
     ]
    },
    {
     "data": {
      "text/plain": [
       "'\\nExplanation:\\n\\nEach column is an item; each row is a transaction.\\n\\nTrue indicates the item was bought in that transaction.\\n\\n'"
      ]
     },
     "execution_count": 34,
     "metadata": {},
     "output_type": "execute_result"
    }
   ],
   "source": [
    "# Step 4: One-hot encode the items\n",
    "#Apriori requires a Boolean (True/False) matrix of item presence.\n",
    "from mlxtend.preprocessing import TransactionEncoder\n",
    "\n",
    "te = TransactionEncoder()\n",
    "te_ary = te.fit(transactions).transform(transactions)\n",
    "df_encoded = pd.DataFrame(te_ary, columns=te.columns_)\n",
    "\n",
    "print(df_encoded.shape)\n",
    "print(df_encoded.iloc[0].head())\n",
    "'''\n",
    "Explanation:\n",
    "\n",
    "Each column is an item; each row is a transaction.\n",
    "\n",
    "True indicates the item was bought in that transaction.\n",
    "\n",
    "'''"
   ]
  },
  {
   "cell_type": "code",
   "execution_count": 35,
   "id": "cada4769",
   "metadata": {},
   "outputs": [
    {
     "name": "stdout",
     "output_type": "stream",
     "text": [
      "     support            itemsets  length\n",
      "62  0.157923        (whole milk)       1\n",
      "40  0.122101  (other vegetables)       1\n",
      "46  0.110005        (rolls/buns)       1\n",
      "52  0.097106              (soda)       1\n",
      "63  0.085879            (yogurt)       1\n",
      "47  0.069572   (root vegetables)       1\n",
      "57  0.067767    (tropical fruit)       1\n",
      "5   0.060683     (bottled water)       1\n",
      "49  0.060349           (sausage)       1\n",
      "15  0.053131      (citrus fruit)       1\n"
     ]
    },
    {
     "data": {
      "text/plain": [
       "'\\nExplanation:\\n\\n{whole milk} appears in ~15.8% of transactions.\\n\\nWe keep all itemsets whose support ≥1%\\n\\n'"
      ]
     },
     "execution_count": 35,
     "metadata": {},
     "output_type": "execute_result"
    }
   ],
   "source": [
    "# Step 5: Apply Apriori algorithm\n",
    "#Mining Frequent Itemsets with Apriori\n",
    "from mlxtend.frequent_patterns import apriori\n",
    "\n",
    "# Minimum support threshold: 1% of all transactions\n",
    "frequent_itemsets = apriori(df_encoded, min_support=0.01, use_colnames=True)\n",
    "frequent_itemsets['length'] = frequent_itemsets['itemsets'].apply(len)\n",
    "print(frequent_itemsets.sort_values('support', ascending=False).head(10))\n",
    "'''\n",
    "Explanation:\n",
    "\n",
    "{whole milk} appears in ~15.8% of transactions.\n",
    "\n",
    "We keep all itemsets whose support ≥1%\n",
    "\n",
    "'''"
   ]
  },
  {
   "cell_type": "code",
   "execution_count": 38,
   "id": "5ae1570b",
   "metadata": {},
   "outputs": [
    {
     "name": "stdout",
     "output_type": "stream",
     "text": [
      "          antecedents   consequents   support  confidence      lift\n",
      "3            (yogurt)  (whole milk)  0.011161    0.129961  0.822940\n",
      "1        (rolls/buns)  (whole milk)  0.013968    0.126974  0.804028\n",
      "0  (other vegetables)  (whole milk)  0.014837    0.121511  0.769430\n",
      "2              (soda)  (whole milk)  0.011629    0.119752  0.758296\n"
     ]
    },
    {
     "data": {
      "text/plain": [
       "'\\nExplanation of metrics:\\n\\nSupport: Fraction of transactions containing both antecedent and consequent.\\n\\nConfidence: P(consequent | antecedent). E.g.,14.8% of baskets with other vegetables also have whole milk.\\n\\nLift: How much more likely the co-occurrence is versus random. Lift >1 means positive association.\\n\\n'"
      ]
     },
     "execution_count": 38,
     "metadata": {},
     "output_type": "execute_result"
    }
   ],
   "source": [
    "# Step 6: Generate association rules\n",
    "from mlxtend.frequent_patterns import association_rules\n",
    "\n",
    "rules = association_rules(frequent_itemsets,\n",
    "                          metric=\"confidence\",\n",
    "                          min_threshold=0.1)\n",
    "\n",
    "# Sort and display top rules by lift\n",
    "rules = rules.sort_values(['confidence', 'lift'], ascending =[False, False])\n",
    "print(rules[['antecedents','consequents','support','confidence','lift']].head(10))\n",
    "\n",
    "'''\n",
    "Explanation of metrics:\n",
    "\n",
    "Support: Fraction of transactions containing both antecedent and consequent.\n",
    "\n",
    "Confidence: P(consequent | antecedent). E.g.,12.15% of baskets with other vegetables also have whole milk.\n",
    "\n",
    "Lift: How much more likely the co-occurrence is versus random. Lift >1 means positive association.\n",
    "\n",
    "'''"
   ]
  },
  {
   "cell_type": "code",
   "execution_count": null,
   "id": "c733f0d4",
   "metadata": {},
   "outputs": [],
   "source": []
  }
 ],
 "metadata": {
  "kernelspec": {
   "display_name": "Python 3 (ipykernel)",
   "language": "python",
   "name": "python3"
  },
  "language_info": {
   "codemirror_mode": {
    "name": "ipython",
    "version": 3
   },
   "file_extension": ".py",
   "mimetype": "text/x-python",
   "name": "python",
   "nbconvert_exporter": "python",
   "pygments_lexer": "ipython3",
   "version": "3.11.5"
  }
 },
 "nbformat": 4,
 "nbformat_minor": 5
}
