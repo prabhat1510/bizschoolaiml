{
 "cells": [
  {
   "cell_type": "code",
   "execution_count": 4,
   "id": "2f27b72c",
   "metadata": {},
   "outputs": [
    {
     "data": {
      "image/png": "[encoded data removed]",
      "text/plain": [
       "<Figure size 900x900 with 1 Axes>"
      ]
     },
     "metadata": {},
     "output_type": "display_data"
    }
   ],
   "source": [
    "#Linear Regression -- y=mx+c or \n",
    "#y(target variable)=slope*x(independent variable)+intercept+error\n",
    "\n",
    "#Logistics Regression\n",
    "#Sigmoid Function ---- S(t)=1/(1+e raise to the power -t)\n",
    "import numpy as np\n",
    "import matplotlib.pyplot as plt\n",
    "import pandas as pd\n",
    "\n",
    "#Plotting the sigmoid function or the logistic regression graph \n",
    "#using mathematical formaula\n",
    "plt.figure(figsize=(9,9))\n",
    "\n",
    "# Define the sigmoid function or Logistic Regression mathematical formula or function\n",
    "def sigmoid(t):                          \n",
    "    return (1/(1 + np.e**(-t)))  \n",
    "\n",
    "#plot_range or t value or x axis value\n",
    "plot_range=np.arange(-6,6,0.1)\n",
    "#plot_range\n",
    "#y or S(t)\n",
    "y_values=sigmoid(plot_range)\n",
    "# Plot curve\n",
    "plt.plot(plot_range,   # X-axis range\n",
    "         y_values,          # Predicted values\n",
    "         color=\"red\");\n",
    "\n",
    "#The sigmoid function is bounded below by 0 and bounded above by 1. \n"
   ]
  },
  {
   "cell_type": "code",
   "execution_count": null,
   "id": "33801138",
   "metadata": {},
   "outputs": [],
   "source": [
    "\"\"\"\n",
    "The sigmoid function is bounded below by 0 and bounded above by 1. \n",
    "In logistic regression, the output is interpreted as a probability: \n",
    "the probability that an observation belongs to the second of the two \n",
    "categories being modeled. When the linear combination of variables \n",
    "produces positive numbers, the resulting probability is greater than 0.5 \n",
    "and when it produces negative numbers, the probability is less than 0.5.\n",
    "\n",
    "We won't go deeper into the details behind how logistic regression works, \n",
    "but instead focus on how to use it in Python. The most important thing to \n",
    "know is that logistic regression outputs probabilities that we can use to \n",
    "classify observations.\n",
    "\n",
    "\"\"\""
   ]
  },
  {
   "cell_type": "code",
   "execution_count": 9,
   "id": "a35c58c9",
   "metadata": {},
   "outputs": [
    {
     "data": {
      "text/html": [
       "<div>\n",
       "<style scoped>\n",
       "    .dataframe tbody tr th:only-of-type {\n",
       "        vertical-align: middle;\n",
       "    }\n",
       "\n",
       "    .dataframe tbody tr th {\n",
       "        vertical-align: top;\n",
       "    }\n",
       "\n",
       "    .dataframe thead th {\n",
       "        text-align: right;\n",
       "    }\n",
       "</style>\n",
       "<table border=\"1\" class=\"dataframe\">\n",
       "  <thead>\n",
       "    <tr style=\"text-align: right;\">\n",
       "      <th></th>\n",
       "      <th>PassengerId</th>\n",
       "      <th>Survived</th>\n",
       "      <th>Pclass</th>\n",
       "      <th>Name</th>\n",
       "      <th>Sex</th>\n",
       "      <th>Age</th>\n",
       "      <th>SibSp</th>\n",
       "      <th>Parch</th>\n",
       "      <th>Ticket</th>\n",
       "      <th>Fare</th>\n",
       "      <th>Cabin</th>\n",
       "      <th>Embarked</th>\n",
       "    </tr>\n",
       "  </thead>\n",
       "  <tbody>\n",
       "    <tr>\n",
       "      <th>0</th>\n",
       "      <td>1</td>\n",
       "      <td>0</td>\n",
       "      <td>3</td>\n",
       "      <td>Braund, Mr. Owen Harris</td>\n",
       "      <td>male</td>\n",
       "      <td>22.0</td>\n",
       "      <td>1</td>\n",
       "      <td>0</td>\n",
       "      <td>A/5 21171</td>\n",
       "      <td>7.2500</td>\n",
       "      <td>n</td>\n",
       "      <td>S</td>\n",
       "    </tr>\n",
       "    <tr>\n",
       "      <th>1</th>\n",
       "      <td>2</td>\n",
       "      <td>1</td>\n",
       "      <td>1</td>\n",
       "      <td>Cumings, Mrs. John Bradley (Florence Briggs Th...</td>\n",
       "      <td>female</td>\n",
       "      <td>38.0</td>\n",
       "      <td>1</td>\n",
       "      <td>0</td>\n",
       "      <td>PC 17599</td>\n",
       "      <td>71.2833</td>\n",
       "      <td>C</td>\n",
       "      <td>C</td>\n",
       "    </tr>\n",
       "    <tr>\n",
       "      <th>2</th>\n",
       "      <td>3</td>\n",
       "      <td>1</td>\n",
       "      <td>3</td>\n",
       "      <td>Heikkinen, Miss. Laina</td>\n",
       "      <td>female</td>\n",
       "      <td>26.0</td>\n",
       "      <td>0</td>\n",
       "      <td>0</td>\n",
       "      <td>STON/O2. 3101282</td>\n",
       "      <td>7.9250</td>\n",
       "      <td>n</td>\n",
       "      <td>S</td>\n",
       "    </tr>\n",
       "    <tr>\n",
       "      <th>3</th>\n",
       "      <td>4</td>\n",
       "      <td>1</td>\n",
       "      <td>1</td>\n",
       "      <td>Futrelle, Mrs. Jacques Heath (Lily May Peel)</td>\n",
       "      <td>female</td>\n",
       "      <td>35.0</td>\n",
       "      <td>1</td>\n",
       "      <td>0</td>\n",
       "      <td>113803</td>\n",
       "      <td>53.1000</td>\n",
       "      <td>C</td>\n",
       "      <td>S</td>\n",
       "    </tr>\n",
       "    <tr>\n",
       "      <th>4</th>\n",
       "      <td>5</td>\n",
       "      <td>0</td>\n",
       "      <td>3</td>\n",
       "      <td>Allen, Mr. William Henry</td>\n",
       "      <td>male</td>\n",
       "      <td>35.0</td>\n",
       "      <td>0</td>\n",
       "      <td>0</td>\n",
       "      <td>373450</td>\n",
       "      <td>8.0500</td>\n",
       "      <td>n</td>\n",
       "      <td>S</td>\n",
       "    </tr>\n",
       "  </tbody>\n",
       "</table>\n",
       "</div>"
      ],
      "text/plain": [
       "   PassengerId  Survived  Pclass  \\\n",
       "0            1         0       3   \n",
       "1            2         1       1   \n",
       "2            3         1       3   \n",
       "3            4         1       1   \n",
       "4            5         0       3   \n",
       "\n",
       "                                                Name     Sex   Age  SibSp  \\\n",
       "0                            Braund, Mr. Owen Harris    male  22.0      1   \n",
       "1  Cumings, Mrs. John Bradley (Florence Briggs Th...  female  38.0      1   \n",
       "2                             Heikkinen, Miss. Laina  female  26.0      0   \n",
       "3       Futrelle, Mrs. Jacques Heath (Lily May Peel)  female  35.0      1   \n",
       "4                           Allen, Mr. William Henry    male  35.0      0   \n",
       "\n",
       "   Parch            Ticket     Fare Cabin Embarked  \n",
       "0      0         A/5 21171   7.2500     n        S  \n",
       "1      0          PC 17599  71.2833     C        C  \n",
       "2      0  STON/O2. 3101282   7.9250     n        S  \n",
       "3      0            113803  53.1000     C        S  \n",
       "4      0            373450   8.0500     n        S  "
      ]
     },
     "execution_count": 9,
     "metadata": {},
     "output_type": "execute_result"
    }
   ],
   "source": [
    "\"\"\"\n",
    "We'll start by loading the data and then carrying out a few of the same\n",
    "preprocessing tasks\n",
    "\"\"\"\n",
    "#Read the data\n",
    "titanic_train=pd.read_csv(\"D:\\\\Downloads\\\\train.csv\")\n",
    "#titanic_train.head()\n",
    "# Convert cabin to str\n",
    "char_cabin = titanic_train[\"Cabin\"].astype(str)\n",
    "#print(char_cabin)\n",
    "\n",
    "new_Cabin = np.array([cabin[0] for cabin in char_cabin]) # Take first letter\n",
    "#new_Cabin\n",
    "titanic_train[\"Cabin\"] = pd.Categorical(new_Cabin)  # Save the new cabin var\n"
   ]
  },
  {
   "cell_type": "code",
   "execution_count": null,
   "id": "704955d0",
   "metadata": {},
   "outputs": [],
   "source": [
    "#We are repalcing missing age data from Age column with median Age  taking its value as 28\n",
    "# Impute median Age for NA Age values\n",
    "new_age_var = np.where(titanic_train[\"Age\"].isnull(), # Logical check\n",
    "                       28,                       # Value if check is true\n",
    "                       titanic_train[\"Age\"])     # Value if check is false\n",
    "\n",
    "titanic_train[\"Age\"] = new_age_var \n",
    "#Fare column \n",
    "new_fare_var = np.where(titanic_train[\"Fare\"].isnull(), # Logical check\n",
    "                       50,                         # Value if check is true\n",
    "                       titanic_train[\"Fare\"])     # Value if check is false\n",
    "\n",
    "titanic_train[\"Fare\"] = new_fare_var\n",
    "\n"
   ]
  },
  {
   "cell_type": "code",
   "execution_count": 11,
   "id": "7c2a76bf",
   "metadata": {},
   "outputs": [
    {
     "name": "stdout",
     "output_type": "stream",
     "text": [
      "[1.01628767]\n",
      "[[-2.44597988]]\n"
     ]
    }
   ],
   "source": [
    "'''\n",
    "    Now we are ready to use a logistic regression model to predict survival. \n",
    "The scikit-learn library has a logistic regression function in the learn model\n",
    "subfolder. \n",
    "Let's make a logistic regression model that only uses the \n",
    "Sex variable as a predictor.\n",
    "Before creating a model with the sex variable, \n",
    "we need to convert to a real number because sklearn's machine learning \n",
    "functions only deal with real numbers. We can convert a categorical variable \n",
    "like into a number using the sklearn preprocessing function LabelEncoder():\n",
    "'''\n",
    "\n",
    "import scipy.stats as stats\n",
    "from sklearn import linear_model\n",
    "from sklearn import preprocessing\n",
    "\n",
    "# Initialize label encoder #LabelEncoder is used to convert string values to numerical values\n",
    "label_encoder = preprocessing.LabelEncoder()\n",
    "# Convert Sex variable to numeric\n",
    "encoded_sex = label_encoder.fit_transform(titanic_train[\"Sex\"])\n",
    "#encoded_sex\n",
    "# Initialize logistic regression model\n",
    "log_model=linear_model.LogisticRegression(solver='lbfgs')\n",
    "\n",
    "# Train the model\n",
    "log_model.fit(X = pd.DataFrame(encoded_sex), \n",
    "              y = titanic_train[\"Survived\"])\n",
    "\n",
    "# Check trained model intercept\n",
    "print(log_model.intercept_)\n",
    "\n",
    "# Check trained model coefficients\n",
    "print(log_model.coef_)\n",
    "\n",
    "\"\"\"\n",
    "The logistic regression model coefficients look similar to the output we saw \n",
    "for linear regression. We can see the model produced a positive intercept \n",
    "value and a weight of -2.4459 on gender. \n",
    "Let's use the model to make predictions on the test set:\n",
    "\"\"\""
   ]
  },
  {
   "cell_type": "code",
   "execution_count": 13,
   "id": "49b41da8",
   "metadata": {},
   "outputs": [
    {
     "name": "stdout",
     "output_type": "stream",
     "text": [
      "Survival_prob  0.193147  0.734249\n",
      "Sex                              \n",
      "female                0       314\n",
      "male                577         0\n"
     ]
    }
   ],
   "source": [
    "#Let's use the model to make predictions on the test set:\n",
    "preds = log_model.predict_proba(X=pd.DataFrame(encoded_sex))\n",
    "preds =pd.DataFrame(preds)\n",
    "preds.columns = [\"Death_prob\", \"Survival_prob\"]\n",
    "# Generate table of predictions vs Sex\n",
    "print(pd.crosstab(titanic_train[\"Sex\"], preds.loc[:, \"Survival_prob\"]))\n",
    "\"\"\"\n",
    "Note: Use model.predict_proba() to get the predicted class probabilities. \n",
    "Use model.predict() to get the predicted classes.\n",
    "\n",
    "The table shows that the model predicted a survival chance of roughly \n",
    "19% for males and 73% for females. If we used this simple model to predict survival,\n",
    " we'd end up predicting that all women survived and that all men died. \n",
    " Let's make a more complicated model that includes a few more variables from \n",
    " the titanic training set:\n",
    "\"\"\""
   ]
  },
  {
   "cell_type": "code",
   "execution_count": 26,
   "id": "ab7d0988",
   "metadata": {},
   "outputs": [],
   "source": [
    "# Convert more variables to numeric\n",
    "encoded_class = label_encoder.fit_transform(titanic_train[\"Pclass\"])\n",
    "#titanic_train['new_Cabin']=new_Cabin\n",
    "encoded_cabin = label_encoder.fit_transform(titanic_train[\"Cabin\"])\n",
    "\n",
    "new_age_var = np.where(titanic_train[\"Age\"].isnull(), # Logical check\n",
    "                       28,                       # Value if check is true\n",
    "                       titanic_train[\"Age\"])     # Value if check is false\n",
    "\n",
    "titanic_train[\"Age\"] = new_age_var \n",
    "\n",
    "train_features = pd.DataFrame([encoded_class,\n",
    "                              encoded_cabin,\n",
    "                              encoded_sex,\n",
    "                              titanic_train[\"Age\"]]).T\n",
    "#train_features.to_csv(\"D:\\\\train_features1.csv\")"
   ]
  },
  {
   "cell_type": "code",
   "execution_count": 27,
   "id": "49764b4d",
   "metadata": {},
   "outputs": [
    {
     "name": "stdout",
     "output_type": "stream",
     "text": [
      "[3.77785761]\n",
      "[[-0.92520536 -0.09750817 -2.52386048 -0.03122094]]\n"
     ]
    }
   ],
   "source": [
    "# Initialize logistic regression model\n",
    "log_model = linear_model.LogisticRegression(solver = 'lbfgs')\n",
    "\n",
    "# Train the model\n",
    "log_model.fit(X = train_features ,\n",
    "              y = titanic_train[\"Survived\"])\n",
    "# Check trained model intercept\n",
    "print(log_model.intercept_)\n",
    "\n",
    "# Check trained model coefficients\n",
    "print(log_model.coef_)"
   ]
  },
  {
   "cell_type": "code",
   "execution_count": 28,
   "id": "f07a41f8",
   "metadata": {},
   "outputs": [
    {
     "name": "stdout",
     "output_type": "stream",
     "text": [
      "Survived    0    1\n",
      "row_0             \n",
      "0         457   89\n",
      "1          92  253\n",
      "*********************************************\n"
     ]
    }
   ],
   "source": [
    "\"\"\"\n",
    "Next, let's make class predictions using this model and then compare the \n",
    "predictons to the actual values:\n",
    "\"\"\"\n",
    "# Make predictions\n",
    "preds = log_model.predict(X= train_features)\n",
    "\n",
    "# Generate table of predictions vs actual\n",
    "print(pd.crosstab(preds,titanic_train[\"Survived\"]))\n",
    "print(\"*********************************************\")\n",
    "\"\"\"\n",
    "The table below shows the classes our model predicted vs. true values of the \n",
    "Survived variable. This table of predicted vs. actual values is known as a \n",
    "confusion matrix.\n",
    "\"\"\"\n",
    "\"\"\"\n",
    "The Confusion Matrix\n",
    "The confusion matrix is a common tool for assessing the results of classification. \n",
    "Each cell tells us something different about our predictions versus the true values.\n",
    "The bottom right corner indicates the True positives: people the model \n",
    "predicted to survive who actually did survive. \n",
    "\n",
    "The bottom left cell indicates the false positives: people for whom the model \n",
    "predicted survival who did not actually survive. The top left cell indicates \n",
    "the true negatives: people correctly identified as non survivors. \n",
    "Finally, the top right cell shows the false negatives: passengers the model \n",
    "identified as non survivors who actually did survive.\n",
    "\"\"\""
   ]
  },
  {
   "cell_type": "code",
   "execution_count": 29,
   "id": "4827ce76",
   "metadata": {},
   "outputs": [
    {
     "name": "stdout",
     "output_type": "stream",
     "text": [
      "0.7968574635241302\n"
     ]
    }
   ],
   "source": [
    "\"\"\"\n",
    "We can calculate the overall prediction accuracy from the matrix by adding \n",
    "the total number of correct predictions and dividing by the total number of \n",
    "predictions. You can also get the accuracy of a model using the \n",
    "scikit-learn model.score() function:\n",
    "\"\"\"\n",
    "print(log_model.score(X = train_features ,\n",
    "                y = titanic_train[\"Survived\"]))"
   ]
  },
  {
   "cell_type": "code",
   "execution_count": 30,
   "id": "9be72d28",
   "metadata": {},
   "outputs": [
    {
     "name": "stdout",
     "output_type": "stream",
     "text": [
      "              precision    recall  f1-score   support\n",
      "\n",
      "           0       0.84      0.83      0.83       549\n",
      "           1       0.73      0.74      0.74       342\n",
      "\n",
      "    accuracy                           0.80       891\n",
      "   macro avg       0.79      0.79      0.79       891\n",
      "weighted avg       0.80      0.80      0.80       891\n",
      "\n"
     ]
    }
   ],
   "source": [
    "from sklearn import metrics\n",
    "\n",
    "# View confusion matrix\n",
    "metrics.confusion_matrix(y_true=titanic_train[\"Survived\"],  # True labels\n",
    "                         y_pred=preds) # Predicted labels\n",
    "\n",
    "# View summary of common classification metrics\n",
    "print(metrics.classification_report(y_true=titanic_train[\"Survived\"],\n",
    "                              y_pred=preds) )"
   ]
  },
  {
   "cell_type": "code",
   "execution_count": 44,
   "id": "231a56b6",
   "metadata": {},
   "outputs": [
    {
     "name": "stdout",
     "output_type": "stream",
     "text": [
      "0.7835820895522388\n"
     ]
    }
   ],
   "source": [
    "# Read and prepare test data\n",
    "\n",
    "from sklearn.model_selection import train_test_split\n",
    "\n",
    "# Read the data\n",
    "data=pd.read_csv(\"D:\\\\Downloads\\\\train.csv\")\n",
    "\n",
    "# Splitting data into train (70%), validation (15%), and test (15%)\n",
    "train_data, temp_data = train_test_split(data, test_size=0.3, random_state=42)\n",
    "validation_data, titanic_test = train_test_split(temp_data, test_size=0.5, random_state=42)\n",
    "\n",
    "\n",
    "char_cabin = titanic_test[\"Cabin\"].astype(str)     # Convert cabin to str\n",
    "\n",
    "new_Cabin = np.array([cabin[0] for cabin in char_cabin]) # Take first letter\n",
    "\n",
    "titanic_test[\"Cabin\"] = pd.Categorical(new_Cabin)  # Save the new cabin var\n",
    "\n",
    "# Impute median Age for NA Age values\n",
    "new_age_var = np.where(titanic_test[\"Age\"].isnull(), # Logical check\n",
    "                       28,                       # Value if check is true\n",
    "                       titanic_test[\"Age\"])      # Value if check is false\n",
    "\n",
    "titanic_test[\"Age\"] = new_age_var \n",
    "\n",
    "\n",
    "# Convert test variables to match model features\n",
    "encoded_sex = label_encoder.fit_transform(titanic_test[\"Sex\"])\n",
    "encoded_class = label_encoder.fit_transform(titanic_test[\"Pclass\"])\n",
    "encoded_cabin = label_encoder.fit_transform(titanic_test[\"Cabin\"])\n",
    "\n",
    "test_features = pd.DataFrame([encoded_class,\n",
    "                              encoded_cabin,\n",
    "                              encoded_sex,\n",
    "                              titanic_test[\"Age\"]]).T\n",
    "\n",
    "# Make test set predictions\n",
    "test_preds = log_model.predict(X=test_features)\n",
    "submission = pd.DataFrame({\"PassengerId\":titanic_test[\"PassengerId\"],\n",
    "                           \"Survived\":test_preds})\n",
    "#submission\n",
    "print(log_model.score(X = test_features ,y = titanic_test[\"Survived\"]))\n"
   ]
  },
  {
   "cell_type": "code",
   "execution_count": null,
   "id": "8fb69603",
   "metadata": {},
   "outputs": [],
   "source": []
  },
  {
   "cell_type": "code",
   "execution_count": null,
   "id": "5489ddc1",
   "metadata": {},
   "outputs": [],
   "source": []
  }
 ],
 "metadata": {
  "kernelspec": {
   "display_name": "Python 3 (ipykernel)",
   "language": "python",
   "name": "python3"
  },
  "language_info": {
   "codemirror_mode": {
    "name": "ipython",
    "version": 3
   },
   "file_extension": ".py",
   "mimetype": "text/x-python",
   "name": "python",
   "nbconvert_exporter": "python",
   "pygments_lexer": "ipython3",
   "version": "3.11.5"
  }
 },
 "nbformat": 4,
 "nbformat_minor": 5
}
